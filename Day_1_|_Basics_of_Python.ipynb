{
  "nbformat": 4,
  "nbformat_minor": 0,
  "metadata": {
    "colab": {
      "name": "Copy of  Day 1 | Basics of Python",
      "version": "0.3.2",
      "provenance": [],
      "collapsed_sections": [],
      "include_colab_link": true
    },
    "kernelspec": {
      "name": "python3",
      "display_name": "Python 3"
    }
  },
  "cells": [
    {
      "cell_type": "markdown",
      "metadata": {
        "id": "view-in-github",
        "colab_type": "text"
      },
      "source": [
        "<a href=\"https://colab.research.google.com/github/zume2020/Python-Days/blob/master/Day_1_|_Basics_of_Python.ipynb\" target=\"_parent\"><img src=\"https://colab.research.google.com/assets/colab-badge.svg\" alt=\"Open In Colab\"/></a>"
      ]
    },
    {
      "metadata": {
        "id": "iH35MQrHq2xM",
        "colab_type": "code",
        "colab": {}
      },
      "cell_type": "code",
      "source": [
        "#This is called as 'Cell'. You can type your code here and execute"
      ],
      "execution_count": 0,
      "outputs": []
    },
    {
      "metadata": {
        "id": "9gzage-3rOcd",
        "colab_type": "code",
        "colab": {}
      },
      "cell_type": "code",
      "source": [
        "inp=input('Write something: ')\n",
        "print(inp) "
      ],
      "execution_count": 0,
      "outputs": []
    },
    {
      "metadata": {
        "id": "wHrQV6S3rqb6",
        "colab_type": "text"
      },
      "cell_type": "markdown",
      "source": [
        "# [Student ]Task 2: Create a new cell take your name as input (myinp)and print it"
      ]
    },
    {
      "metadata": {
        "id": "cztcCnwrtobd",
        "colab_type": "code",
        "colab": {}
      },
      "cell_type": "code",
      "source": [
        "myinp=input('Write your Name: ')\n",
        "print(myinp)"
      ],
      "execution_count": 0,
      "outputs": []
    },
    {
      "metadata": {
        "id": "B6FRD3h1r2mM",
        "colab_type": "text"
      },
      "cell_type": "markdown",
      "source": [
        "# 2. Working with Data\n",
        "\n",
        "** Numbers (int and float)**"
      ]
    },
    {
      "metadata": {
        "id": "7Jb-q3E5rWtx",
        "colab_type": "code",
        "colab": {}
      },
      "cell_type": "code",
      "source": [
        "print(100) # this is an integer number with whole or absolute value"
      ],
      "execution_count": 0,
      "outputs": []
    },
    {
      "metadata": {
        "id": "KnOicOdMrfrm",
        "colab_type": "code",
        "colab": {}
      },
      "cell_type": "code",
      "source": [
        "print(100.00) #this is a float number with a decimal value. Usually used for denoting price or length"
      ],
      "execution_count": 0,
      "outputs": []
    },
    {
      "metadata": {
        "id": "__F4dGhtrkLz",
        "colab_type": "code",
        "colab": {}
      },
      "cell_type": "code",
      "source": [
        "a=100\n",
        "b=(1000000000000000000000000000000000000000000000000000000000000000000000000000000000000000000000000000000) # a and b are variables in which the numbers are stored.\n",
        "#even this one is an integer. In python3 int and long are merged."
      ],
      "execution_count": 0,
      "outputs": []
    },
    {
      "metadata": {
        "id": "kxX7_SxvrnH7",
        "colab_type": "code",
        "colab": {}
      },
      "cell_type": "code",
      "source": [
        "type(b) # To check the datatype of a variable"
      ],
      "execution_count": 0,
      "outputs": []
    },
    {
      "metadata": {
        "id": "qtjJnCDPtBBS",
        "colab_type": "text"
      },
      "cell_type": "markdown",
      "source": [
        "# [Student] Task 3: Now check the datatype of your input (myinp) created in Task 2"
      ]
    },
    {
      "metadata": {
        "id": "CUr-xiccrtgX",
        "colab_type": "code",
        "colab": {}
      },
      "cell_type": "code",
      "source": [
        "print(type(myinp))"
      ],
      "execution_count": 0,
      "outputs": []
    },
    {
      "metadata": {
        "id": "hXdwVGWssAd4",
        "colab_type": "code",
        "colab": {}
      },
      "cell_type": "code",
      "source": [
        "a=100\n",
        "b=98.99\n",
        "print(type(a+b)) #add two numbers of different data types and see what happens?\n",
        "print(type(a+a)) #add two numbers of same data type and see what happens?\n",
        "a1='hello'\n",
        "a+a1"
      ],
      "execution_count": 0,
      "outputs": []
    },
    {
      "metadata": {
        "id": "k3_MaKHPu4wn",
        "colab_type": "text"
      },
      "cell_type": "markdown",
      "source": [
        "** Characters or Strings **"
      ]
    },
    {
      "metadata": {
        "id": "nVhX-XMgsDTw",
        "colab_type": "code",
        "colab": {}
      },
      "cell_type": "code",
      "source": [
        "mydata=\"Hello world!\"\n",
        "mynum1='7'\n",
        "mynum2= 7\n",
        "myday='01/12/1993'\n",
        "mypass='12qw%3bvm'"
      ],
      "execution_count": 0,
      "outputs": []
    },
    {
      "metadata": {
        "id": "18lRDIFpvV74",
        "colab_type": "code",
        "colab": {}
      },
      "cell_type": "code",
      "source": [
        "mydata"
      ],
      "execution_count": 0,
      "outputs": []
    },
    {
      "metadata": {
        "id": "m_ORLtGmvneE",
        "colab_type": "code",
        "colab": {}
      },
      "cell_type": "code",
      "source": [
        "type(mynum1)==type(mynum2) # is False. Why?"
      ],
      "execution_count": 0,
      "outputs": []
    },
    {
      "metadata": {
        "id": "q8VCuIFEw6FJ",
        "colab_type": "code",
        "colab": {}
      },
      "cell_type": "code",
      "source": [
        "type(print()) #so what does mere print function return?"
      ],
      "execution_count": 0,
      "outputs": []
    },
    {
      "metadata": {
        "id": "iU2a_2ySyo2e",
        "colab_type": "text"
      },
      "cell_type": "markdown",
      "source": [
        "# [Student] Task 4: Can you create a text block below and define what is happening in the upcoming code cell?"
      ]
    },
    {
      "metadata": {
        "id": "C-IKkXwSyMae",
        "colab_type": "code",
        "colab": {}
      },
      "cell_type": "code",
      "source": [
        "print(type(print(print(10)))) \n",
        "type(print('hello world')) \n",
        "# can you guess this data structure? \n",
        "#hint: Stack or Queue?"
      ],
      "execution_count": 0,
      "outputs": []
    },
    {
      "metadata": {
        "id": "EVWFutJA1_j1",
        "colab_type": "text"
      },
      "cell_type": "markdown",
      "source": [
        "** Variables **\n",
        "\n",
        "From the above discussions, List what are the variables we have created. What are their data types? How did the datatype get assigned?"
      ]
    },
    {
      "metadata": {
        "id": "ANVSEZz0yXvC",
        "colab_type": "code",
        "colab": {}
      },
      "cell_type": "code",
      "source": [
        "print(globals()) #lets print the global variables\n",
        "output=(globals()) #What is happening after executing this segment?"
      ],
      "execution_count": 0,
      "outputs": []
    },
    {
      "metadata": {
        "id": "rGLNoptd2bil",
        "colab_type": "code",
        "colab": {}
      },
      "cell_type": "code",
      "source": [
        "type(output) #the output of the globals(), locals() and vars() is in dictionary type"
      ],
      "execution_count": 0,
      "outputs": []
    },
    {
      "metadata": {
        "id": "OouN8eYC3dJ4",
        "colab_type": "code",
        "colab": {}
      },
      "cell_type": "code",
      "source": [
        "output1=locals()"
      ],
      "execution_count": 0,
      "outputs": []
    },
    {
      "metadata": {
        "id": "1ycW0DuI3lTq",
        "colab_type": "code",
        "colab": {}
      },
      "cell_type": "code",
      "source": [
        "output2=vars()"
      ],
      "execution_count": 0,
      "outputs": []
    },
    {
      "metadata": {
        "id": "-pdkLs9k67q2",
        "colab_type": "code",
        "colab": {}
      },
      "cell_type": "code",
      "source": [
        "output==output1 #How and why?"
      ],
      "execution_count": 0,
      "outputs": []
    },
    {
      "metadata": {
        "id": "Gm11-uG-uors",
        "colab_type": "text"
      },
      "cell_type": "markdown",
      "source": [
        ""
      ]
    },
    {
      "metadata": {
        "id": "tRWfGzPM7VUF",
        "colab_type": "text"
      },
      "cell_type": "markdown",
      "source": [
        "Explore the difference between vars(), globals() and locals()"
      ]
    },
    {
      "metadata": {
        "id": "u042c7g88ybR",
        "colab_type": "text"
      },
      "cell_type": "markdown",
      "source": [
        "# Operators in Python\n",
        "\n",
        "\n",
        "*   Arithmetic Operators\n",
        "*   Assignment Operators\n",
        "* Comparison Operators\n",
        "* Logical Operators\n",
        "* Bitwise Operators\n",
        "* Identity Operators\n",
        "* Membership Operators\n",
        "\n"
      ]
    },
    {
      "metadata": {
        "id": "Yj-z_p-z7KJy",
        "colab_type": "code",
        "colab": {}
      },
      "cell_type": "code",
      "source": [
        "# Arithmetic operators\n",
        "num1=10\n",
        "num2=50\n",
        "print('addition',num1+num2)\n",
        "print('subtraction',num1-num2)\n",
        "print('multiplication',num1*num2)\n",
        "print('division',num1/num2)\n",
        "print('modulo',num2%num1)\n"
      ],
      "execution_count": 0,
      "outputs": []
    },
    {
      "metadata": {
        "id": "p1A1ZRxE7tta",
        "colab_type": "code",
        "colab": {}
      },
      "cell_type": "code",
      "source": [
        "#Assignment operators\n",
        "num1=10\n",
        "num=num1 #assign value of num1 to num\n",
        "print('The value of num is:',num)\n",
        "\n",
        "num+=num1 #is equal to num+num1\n",
        "print('The value of num is:',num)\n",
        "\n",
        "num-=num1 #is equal to num-num1\n",
        "print('The value of num is:',num)\n",
        "\n",
        "num*=num1 #is equal to num*num1\n",
        "print('The value of num is:',num)\n",
        "\n",
        "num/=num1 #is equal to num / num1\n",
        "print('The value of num is:',num)\n",
        "\n",
        "num%=num1 #is equal to num % num1\n",
        "print('The value of num is:',num)\n",
        "\n",
        "#Check the value of num now\n",
        "print(num) # the value of num has been changing. why?\n",
        "\n",
        "#let num=88 now\n",
        "num=88\n",
        "num**=num1 #is equal to num exponent power num1\n",
        "print('The value of num is:',num)\n",
        "\n",
        "num//=num1 #is equal to num floor divide with num1\n",
        "print('The value of num is:',num)"
      ],
      "execution_count": 0,
      "outputs": []
    },
    {
      "metadata": {
        "id": "Bt40Ztuy8ERD",
        "colab_type": "code",
        "colab": {}
      },
      "cell_type": "code",
      "source": [
        "#Comparison Operators\n",
        "\n",
        "#the output will be Either true or False based on the condition\n",
        "\n",
        "num1='7'\n",
        "num2=7\n",
        "num3=7.0\n",
        "\n",
        "print('num1 and num2 same?', num1==num2) #Checks whether num 1 is equal to num2\n",
        "print('num2 and num3 same?', num2==num3)\n",
        "\n",
        "\n",
        "print('num1 and num2 different?', num1!=num2) #Checks whether num 1 is not equal to num2\n",
        "print('num2 and num3 different?', num2!=num3)\n",
        "\n",
        "\n"
      ],
      "execution_count": 0,
      "outputs": []
    },
    {
      "metadata": {
        "id": "jxqpRUVNClEE",
        "colab_type": "code",
        "colab": {}
      },
      "cell_type": "code",
      "source": [
        "print('num2 is greater than or equal to num3: ',num2>=num3) #checks whether a number num2 is greater than equal to num3\n",
        "\n",
        "# Try others:"
      ],
      "execution_count": 0,
      "outputs": []
    },
    {
      "metadata": {
        "id": "R-XeyPV8F_gi",
        "colab_type": "code",
        "colab": {}
      },
      "cell_type": "code",
      "source": [
        "#Logical Operators\n",
        "\n",
        "#note: inputs to the logical operators should be logical 'True' or 'False'\n",
        "\n",
        "inp1=True\n",
        "inp2=False\n",
        "inp3=True\n",
        "\n",
        "print('input1 and input 2:',inp1 and inp2) #and operator\n",
        "print('input1 and input 3:',inp1 and inp3)\n",
        "\n",
        "\n",
        "\n",
        "print('input1 or input 2:',inp1 or inp2) #or operator\n",
        "print('input1 or input 3:',inp1 or inp3)\n",
        "\n",
        "\n",
        "print('not input 2:',not inp2) #not operator\n",
        "print('not input 3:',not inp3)\n"
      ],
      "execution_count": 0,
      "outputs": []
    },
    {
      "metadata": {
        "id": "GYwsDux4GzXx",
        "colab_type": "code",
        "colab": {}
      },
      "cell_type": "code",
      "source": [
        "#Bitwise Operators\n",
        "\n",
        "inp1 = 5\n",
        "inp2= 8\n",
        "\n",
        "# find the binary notation of inp1 and inp2\n",
        "\n",
        "print('The binary value of inp1 is',\"{0:b}\".format(inp1)) #converts \n",
        "print('The binary value of inp2 is',\"{0:b}\".format(inp2))\n",
        "\n",
        "(inp1 | inp2)"
      ],
      "execution_count": 0,
      "outputs": []
    },
    {
      "metadata": {
        "id": "c3-syJxUHAIf",
        "colab_type": "code",
        "colab": {}
      },
      "cell_type": "code",
      "source": [
        "#special operators\n",
        "\n",
        "#hint: id()\n",
        "\n",
        "num1=1008\n",
        "num2=num1\n",
        "num3=1008\n",
        "print(num1 is num2)\n",
        "print(num2 is num3)\n",
        "print(num1 is num3) #Why?\n",
        "\n",
        "#Try is not operator\n",
        "print(id(num1))\n",
        "print(id(num2))\n",
        "print(id(num3))"
      ],
      "execution_count": 0,
      "outputs": []
    },
    {
      "metadata": {
        "id": "tfGqsHpEO3mf",
        "colab_type": "code",
        "colab": {}
      },
      "cell_type": "code",
      "source": [
        "#Membership operator\n",
        "\n",
        "#lets create a list\n",
        "a=[1,'ram', '01/11/25',908666567]\n",
        "\n",
        "'01/11/25' not in a #Check whether Ram is in the list a\n",
        "\n",
        "#also try not in"
      ],
      "execution_count": 0,
      "outputs": []
    },
    {
      "metadata": {
        "id": "7hrLE1hkPbZy",
        "colab_type": "text"
      },
      "cell_type": "markdown",
      "source": [
        "# Strings"
      ]
    },
    {
      "metadata": {
        "id": "Dc8zNaoAPabV",
        "colab_type": "code",
        "colab": {}
      },
      "cell_type": "code",
      "source": [
        "#Create a String\n",
        "\n",
        "str1= \"Hello\"\n",
        "str2='world'\n",
        "str3='007'\n",
        "\n",
        "#String concatenation\n",
        "print('Concatenation',str1+str2+str3) #How to bring spaces in between? Explore google\n",
        "\n",
        "\n",
        "#String repetition\n",
        "t=5 #times to repeat \n",
        "\n",
        "print(str1*1)\n",
        "\n",
        "\n",
        "#String Slicing\n",
        "\n",
        "print(str1[1]) #indexing starts from 0\n",
        "\n",
        "print(str1[2:5]) #slicing \n",
        "\n",
        "#indexing\n",
        "\n",
        "print(str1.index('e')) #find index of a character\n",
        "\n",
        "\n",
        "print(str1[::-1]) #Print in Reverse\n"
      ],
      "execution_count": 0,
      "outputs": []
    },
    {
      "metadata": {
        "id": "3TV9UR2EPNq6",
        "colab_type": "code",
        "colab": {}
      },
      "cell_type": "code",
      "source": [
        "#Strings are immutable why?\n",
        "\n",
        "str1[0]='m' \n",
        "print(str1)#expected output is mello"
      ],
      "execution_count": 0,
      "outputs": []
    },
    {
      "metadata": {
        "id": "6i0qGhraSRhs",
        "colab_type": "text"
      },
      "cell_type": "markdown",
      "source": [
        "# Tuples"
      ]
    },
    {
      "metadata": {
        "id": "0hLnJprXSJ_G",
        "colab_type": "code",
        "colab": {}
      },
      "cell_type": "code",
      "source": [
        "#create a tuple\n",
        "\n",
        "tup1=['xen.ai','30/10/2018','Vaishali','python',1]\n",
        "tup1=tuple(tup1)\n",
        "type(tup1)"
      ],
      "execution_count": 0,
      "outputs": []
    },
    {
      "metadata": {
        "id": "JwnrML1TSfwm",
        "colab_type": "code",
        "colab": {}
      },
      "cell_type": "code",
      "source": [
        "#Access values in a tuple\n",
        "print(tup1[1]) #indexing starts from 0\n",
        "\n",
        "#index\n",
        "\n",
        "print(tup1.index('python'))\n",
        "\n",
        "print(tup1+tup1) #Concatenation"
      ],
      "execution_count": 0,
      "outputs": []
    },
    {
      "metadata": {
        "id": "ynZ8Kw1uSjll",
        "colab_type": "code",
        "colab": {}
      },
      "cell_type": "code",
      "source": [
        "#immutability check\n",
        "\n",
        "#pop an element\n",
        "\n",
        "tup1.pop()\n",
        "tup1[1]=100"
      ],
      "execution_count": 0,
      "outputs": []
    },
    {
      "metadata": {
        "id": "RrJmofYoU2AE",
        "colab_type": "text"
      },
      "cell_type": "markdown",
      "source": [
        "# Lists"
      ]
    },
    {
      "metadata": {
        "id": "laW6ya8yUN_E",
        "colab_type": "code",
        "colab": {}
      },
      "cell_type": "code",
      "source": [
        "#Create a list\n",
        "\n",
        "lst1=[1,3,6,4,8,8]\n",
        "\n",
        "lst2=[100,56,88,59,800]"
      ],
      "execution_count": 0,
      "outputs": []
    },
    {
      "metadata": {
        "id": "BYRePGiuZF-O",
        "colab_type": "code",
        "colab": {}
      },
      "cell_type": "code",
      "source": [
        "lst1.pop()\n",
        "print(lst1)"
      ],
      "execution_count": 0,
      "outputs": []
    },
    {
      "metadata": {
        "id": "HEDFImLUr2fJ",
        "colab_type": "code",
        "colab": {}
      },
      "cell_type": "code",
      "source": [
        "lst1.insert(3,10)\n",
        "print(lst1)"
      ],
      "execution_count": 0,
      "outputs": []
    },
    {
      "metadata": {
        "id": "JgeZgpOSsBQ4",
        "colab_type": "code",
        "colab": {}
      },
      "cell_type": "code",
      "source": [
        "lst1.append(9)\n",
        "print(lst1)"
      ],
      "execution_count": 0,
      "outputs": []
    },
    {
      "metadata": {
        "id": "6CyirrKDscBb",
        "colab_type": "code",
        "colab": {}
      },
      "cell_type": "code",
      "source": [
        ""
      ],
      "execution_count": 0,
      "outputs": []
    },
    {
      "metadata": {
        "id": "ChtmelYbs-RJ",
        "colab_type": "text"
      },
      "cell_type": "markdown",
      "source": [
        ""
      ]
    },
    {
      "metadata": {
        "id": "fPiHnqQMs_c0",
        "colab_type": "text"
      },
      "cell_type": "markdown",
      "source": [
        ""
      ]
    },
    {
      "metadata": {
        "id": "xtdfDYA1s_Lf",
        "colab_type": "text"
      },
      "cell_type": "markdown",
      "source": [
        ""
      ]
    },
    {
      "metadata": {
        "id": "WbQXufivs-zG",
        "colab_type": "text"
      },
      "cell_type": "markdown",
      "source": [
        "Dictionary"
      ]
    },
    {
      "metadata": {
        "id": "JYrtp_DVsi0g",
        "colab_type": "code",
        "colab": {}
      },
      "cell_type": "code",
      "source": [
        "dict1={1:[\"ram\",99,98,80,77],2:[\"anu\",56,89,56,88],3:[\"naresh\",0,0,0,0,0]}"
      ],
      "execution_count": 0,
      "outputs": []
    },
    {
      "metadata": {
        "id": "9lSYqListIki",
        "colab_type": "code",
        "colab": {}
      },
      "cell_type": "code",
      "source": [
        "dict1[1][2]"
      ],
      "execution_count": 0,
      "outputs": []
    },
    {
      "metadata": {
        "id": "eM0tbdFptMm2",
        "colab_type": "code",
        "colab": {}
      },
      "cell_type": "code",
      "source": [
        "set1= {1,2,3,4}\n",
        "set2={5,4,9,0}\n",
        "set1.difference(set2)"
      ],
      "execution_count": 0,
      "outputs": []
    },
    {
      "metadata": {
        "id": "QXMepHDIt24p",
        "colab_type": "code",
        "colab": {}
      },
      "cell_type": "code",
      "source": [
        ""
      ],
      "execution_count": 0,
      "outputs": []
    }
  ]
}