{
  "nbformat": 4,
  "nbformat_minor": 0,
  "metadata": {
    "colab": {
      "name": "Copy of Day 2 | More with python | numpy ",
      "version": "0.3.2",
      "provenance": [],
      "collapsed_sections": [],
      "include_colab_link": true
    },
    "kernelspec": {
      "name": "python3",
      "display_name": "Python 3"
    }
  },
  "cells": [
    {
      "cell_type": "markdown",
      "metadata": {
        "id": "view-in-github",
        "colab_type": "text"
      },
      "source": [
        "<a href=\"https://colab.research.google.com/github/zume2020/Python-Days/blob/master/Day_2_|_More_with_python_|_numpy.ipynb\" target=\"_parent\"><img src=\"https://colab.research.google.com/assets/colab-badge.svg\" alt=\"Open In Colab\"/></a>"
      ]
    },
    {
      "metadata": {
        "id": "0lrebMrpZ66V",
        "colab_type": "text"
      },
      "cell_type": "markdown",
      "source": [
        "# Day 2 : Python for Data Science\n",
        "* Conditional statements\n",
        "* Functions\n",
        "* Classes\n",
        "* Regular Expressions\n",
        "* numpy"
      ]
    },
    {
      "metadata": {
        "id": "1NOS6EwKuKWi",
        "colab_type": "code",
        "colab": {
          "base_uri": "https://localhost:8080/",
          "height": 104
        },
        "outputId": "c899dc91-585a-427b-c416-240a70f75fe8"
      },
      "cell_type": "code",
      "source": [
        "lst=[1,2,56,78,34]\n",
        "for i in lst:\n",
        "  print(i)"
      ],
      "execution_count": 2,
      "outputs": [
        {
          "output_type": "stream",
          "text": [
            "1\n",
            "2\n",
            "56\n",
            "78\n",
            "34\n"
          ],
          "name": "stdout"
        }
      ]
    },
    {
      "metadata": {
        "id": "0RJJ6GmEqS6v",
        "colab_type": "code",
        "colab": {
          "base_uri": "https://localhost:8080/",
          "height": 52
        },
        "outputId": "23001369-497e-4ca5-b481-a78ddeca8bec"
      },
      "cell_type": "code",
      "source": [
        "#how to apply operators in Genetic Engineering\n",
        "\n",
        "id=['c1','c2','c3','c4']\n",
        "d1=[True, False,True,True]\n",
        "d2=[False,False,True,True]\n",
        "\n",
        "d=d1 and d2\n",
        "print(d)\n",
        "\n",
        "cdict={}\n",
        "\n",
        "for i in range(0,len(id)):\n",
        "  cdict[id[i]]=d[i]\n",
        "\n",
        "print(cdict)"
      ],
      "execution_count": 3,
      "outputs": [
        {
          "output_type": "stream",
          "text": [
            "[False, False, True, True]\n",
            "{'c1': False, 'c2': False, 'c3': True, 'c4': True}\n"
          ],
          "name": "stdout"
        }
      ]
    },
    {
      "metadata": {
        "id": "eMmT0F5zvJLh",
        "colab_type": "code",
        "colab": {}
      },
      "cell_type": "code",
      "source": [
        "cdict['c3']"
      ],
      "execution_count": 0,
      "outputs": []
    },
    {
      "metadata": {
        "id": "tcZAGV38xwen",
        "colab_type": "text"
      },
      "cell_type": "markdown",
      "source": [
        "# 1.  if condition"
      ]
    },
    {
      "metadata": {
        "id": "51RJR5oYxvny",
        "colab_type": "code",
        "colab": {}
      },
      "cell_type": "code",
      "source": [
        "#check whether a number is 5\n",
        "a=6\n",
        "if (a==5):\n",
        "  print('its five')"
      ],
      "execution_count": 0,
      "outputs": []
    },
    {
      "metadata": {
        "id": "t1p1Imo8yAWi",
        "colab_type": "text"
      },
      "cell_type": "markdown",
      "source": [
        "# 2. if else"
      ]
    },
    {
      "metadata": {
        "id": "2cydfqbTyDQK",
        "colab_type": "code",
        "colab": {}
      },
      "cell_type": "code",
      "source": [
        "#if a condition is not satisfied, there should be another condition to handle it. So we use else\n",
        "\n",
        "a=5\n",
        "if (a==5):\n",
        "  print(a+5)\n",
        "else:\n",
        "  print('its not five')"
      ],
      "execution_count": 0,
      "outputs": []
    },
    {
      "metadata": {
        "id": "BtPpxdthyhi9",
        "colab_type": "text"
      },
      "cell_type": "markdown",
      "source": [
        "#3.  if elif else"
      ]
    },
    {
      "metadata": {
        "id": "j1qKNteXyYgy",
        "colab_type": "code",
        "colab": {}
      },
      "cell_type": "code",
      "source": [
        "a=5\n",
        "if (a==5):\n",
        "  print('its five')\n",
        "elif (a==50):\n",
        "  print('its fifty')\n",
        "else:\n",
        "  print('i dont know')"
      ],
      "execution_count": 0,
      "outputs": []
    },
    {
      "metadata": {
        "id": "00JqYDdGzF9Z",
        "colab_type": "text"
      },
      "cell_type": "markdown",
      "source": [
        "# 4. While do"
      ]
    },
    {
      "metadata": {
        "id": "fQdORSn_zL9T",
        "colab_type": "code",
        "colab": {}
      },
      "cell_type": "code",
      "source": [
        "start=10\n",
        "end=0\n",
        "while(start>end):\n",
        "  print(start)\n",
        "  start=start-1 #what will happen if you remove this line?"
      ],
      "execution_count": 0,
      "outputs": []
    },
    {
      "metadata": {
        "id": "lpMgffJgzLDx",
        "colab_type": "text"
      },
      "cell_type": "markdown",
      "source": [
        "# 5. For loop"
      ]
    },
    {
      "metadata": {
        "id": "wQfrwpkizrbH",
        "colab_type": "code",
        "colab": {
          "base_uri": "https://localhost:8080/",
          "height": 191
        },
        "outputId": "a0e3aac0-4acf-4f9a-e4c6-f95c7ef78f96"
      },
      "cell_type": "code",
      "source": [
        "start=0\n",
        "end=10\n",
        "for start in range(0,end): #initialization, range and updation happens in one line\n",
        "  print((start*2)+1)"
      ],
      "execution_count": 4,
      "outputs": [
        {
          "output_type": "stream",
          "text": [
            "1\n",
            "3\n",
            "5\n",
            "7\n",
            "9\n",
            "11\n",
            "13\n",
            "15\n",
            "17\n",
            "19\n"
          ],
          "name": "stdout"
        }
      ]
    },
    {
      "metadata": {
        "id": "sh95yuvEaUox",
        "colab_type": "text"
      },
      "cell_type": "markdown",
      "source": [
        "# Functions\n",
        "\n",
        "\n",
        "---\n",
        "\n"
      ]
    },
    {
      "metadata": {
        "id": "FMBqjl9hydeC",
        "colab_type": "code",
        "colab": {
          "base_uri": "https://localhost:8080/",
          "height": 69
        },
        "outputId": "ebcb4c51-a673-406c-b0f4-7fdbea4ceec1"
      },
      "cell_type": "code",
      "source": [
        "def addition(num1,num2):\n",
        "  return num1+num2\n",
        "\n",
        "o1=addition(2,4)\n",
        "o2=addition(2.5,6.7)\n",
        "o3=addition('hi','hello')\n",
        "\n",
        "print(o1)\n",
        "print(o2)\n",
        "print(o3)"
      ],
      "execution_count": 5,
      "outputs": [
        {
          "output_type": "stream",
          "text": [
            "6\n",
            "9.2\n",
            "hihello\n"
          ],
          "name": "stdout"
        }
      ]
    },
    {
      "metadata": {
        "id": "RsZasKnmaGYm",
        "colab_type": "code",
        "colab": {
          "base_uri": "https://localhost:8080/",
          "height": 86
        },
        "outputId": "2cf76037-f61d-4276-ff87-8de30fb395be"
      },
      "cell_type": "code",
      "source": [
        "#to define a function in python, the key word def is used. Function is a set of procedures.\n",
        "\n",
        "def biodata(name,age,year): #usage of colon is neccessary\n",
        "  print('My name is ', name)\n",
        "  print('My age is ',age)\n",
        "  print('I will be',age+1,' years old next year')\n",
        "  print('I was born in the year ',year)\n",
        "  \n",
        "#call the function\n",
        "biodata('sumi',20,2015)"
      ],
      "execution_count": 9,
      "outputs": [
        {
          "output_type": "stream",
          "text": [
            "My name is  sumi\n",
            "My age is  20\n",
            "I will be 21  years old next year\n",
            "I was born in the year  2015\n"
          ],
          "name": "stdout"
        }
      ]
    },
    {
      "metadata": {
        "id": "p23ne52_bPes",
        "colab_type": "code",
        "colab": {}
      },
      "cell_type": "code",
      "source": [
        "#you have to supply inputs to a function\n",
        "name='dummy'\n",
        "age=0\n",
        "year=2018\n",
        "\n",
        "#pass variables as arguments\n",
        "\n",
        "biodata(name,age,year) # inputs to a function is called as arguments. "
      ],
      "execution_count": 0,
      "outputs": []
    },
    {
      "metadata": {
        "id": "-XBJSFfAbhoJ",
        "colab_type": "code",
        "colab": {}
      },
      "cell_type": "code",
      "source": [
        "#you have to supply inputs to a function\n",
        "name=input('print your name:') #Take user input to the variable\n",
        "age=int(input('print your age:'))\n",
        "year=int(input('print the year of birth:'))\n",
        "\n",
        "print('YOUR DETAILS \\n ************')\n",
        "\n",
        "#pass variables as arguments\n",
        "\n",
        "biodata(name,age,year) # inputs to a function is called as arguments. "
      ],
      "execution_count": 0,
      "outputs": []
    },
    {
      "metadata": {
        "id": "p3m4Sc5icxtd",
        "colab_type": "text"
      },
      "cell_type": "markdown",
      "source": [
        "# Class\n",
        "\n",
        "A class is a collection of properties and methods/functions."
      ]
    },
    {
      "metadata": {
        "id": "9bPJ695a0xAh",
        "colab_type": "code",
        "colab": {}
      },
      "cell_type": "code",
      "source": [
        "class arithmetic():\n",
        "  def __init__(self,num1,num2,name):\n",
        "    self.num1=num1\n",
        "    self.num2=num2\n",
        "    self.name=name\n",
        "    \n",
        "  def addition(self):\n",
        "    return self.num1+self.num2\n",
        "  \n",
        "  def printname(self):\n",
        "    return self.name\n",
        "  \n",
        "    \n",
        "  "
      ],
      "execution_count": 0,
      "outputs": []
    },
    {
      "metadata": {
        "id": "85Rks_aO39jO",
        "colab_type": "code",
        "colab": {
          "base_uri": "https://localhost:8080/",
          "height": 52
        },
        "outputId": "fbcddc8a-6ec0-42c2-a280-7272e99d0ed9"
      },
      "cell_type": "code",
      "source": [
        "output=arithmetic(6,7,'Ram')\n",
        "print(output.addition())\n",
        "print(output.printname())"
      ],
      "execution_count": 14,
      "outputs": [
        {
          "output_type": "stream",
          "text": [
            "13\n",
            "Ram\n"
          ],
          "name": "stdout"
        }
      ]
    },
    {
      "metadata": {
        "id": "Wb0OPrrJb-vQ",
        "colab_type": "code",
        "colab": {}
      },
      "cell_type": "code",
      "source": [
        "class student():\n",
        "  def __init__(self,name,father):\n",
        "    self.name=name\n",
        "    self.father=father\n",
        "    \n",
        "  def details(self):\n",
        "    print('my name is',self.name)\n",
        "    print('my father is',self.father)\n",
        "    \n",
        "#   def father(self):\n",
        "#     print('my father\\'s name is',self.father)\n"
      ],
      "execution_count": 0,
      "outputs": []
    },
    {
      "metadata": {
        "id": "GuZj19WsdJTZ",
        "colab_type": "code",
        "colab": {
          "base_uri": "https://localhost:8080/",
          "height": 52
        },
        "outputId": "3abf978a-41b8-4617-9d15-a5b9abd10691"
      },
      "cell_type": "code",
      "source": [
        "std=student('ram','babu')\n",
        "std.details()"
      ],
      "execution_count": 22,
      "outputs": [
        {
          "output_type": "stream",
          "text": [
            "my name is ram\n",
            "my father is babu\n"
          ],
          "name": "stdout"
        }
      ]
    },
    {
      "metadata": {
        "id": "G6dakVzhfLLT",
        "colab_type": "text"
      },
      "cell_type": "markdown",
      "source": [
        "# Regular Expressions"
      ]
    },
    {
      "metadata": {
        "id": "R3DHlU__n8JC",
        "colab_type": "text"
      },
      "cell_type": "markdown",
      "source": [
        "Split a string with Regular expression"
      ]
    },
    {
      "metadata": {
        "id": "F2PEXY7welCB",
        "colab_type": "code",
        "colab": {
          "base_uri": "https://localhost:8080/",
          "height": 34
        },
        "outputId": "e0515599-4645-4b29-a950-7e7d8e047c08"
      },
      "cell_type": "code",
      "source": [
        "#create a string and split words based on numbers\n",
        "\n",
        "import re #dont forget to import this\n",
        "str=\"my name is ram\"\n",
        "\n",
        "ns=re.split(r'\\s',str) # \\d will split words based on numbers\n",
        "print(ns)"
      ],
      "execution_count": 23,
      "outputs": [
        {
          "output_type": "stream",
          "text": [
            "['my', 'name', 'is', 'ram']\n"
          ],
          "name": "stdout"
        }
      ]
    },
    {
      "metadata": {
        "id": "pTJl2hi7ffIb",
        "colab_type": "code",
        "colab": {}
      },
      "cell_type": "code",
      "source": [
        "str1=\"01/12/1993\"\n",
        "\n",
        "ns=re.split(r'\\/',str1) # \\d will split words based on numbers\n",
        "print(ns)\n",
        "\n",
        "type(ns)\n"
      ],
      "execution_count": 0,
      "outputs": []
    },
    {
      "metadata": {
        "id": "A4dDWO3KnSi1",
        "colab_type": "code",
        "colab": {}
      },
      "cell_type": "code",
      "source": [
        "str2=\"01T12T1993\"\n",
        "\n",
        "ns=re.split(r'T',str2) # \\d will split words based on a character\n",
        "print(ns)"
      ],
      "execution_count": 0,
      "outputs": []
    },
    {
      "metadata": {
        "id": "fGqyTK-Mnm8A",
        "colab_type": "code",
        "colab": {}
      },
      "cell_type": "code",
      "source": [
        "str3=\"my name is Ram\"\n",
        "\n",
        "ns=re.split(r'\\s',str3) # \\d will split words based on numbers\n",
        "print(ns)"
      ],
      "execution_count": 0,
      "outputs": []
    },
    {
      "metadata": {
        "id": "ErSVv5hLo7cX",
        "colab_type": "text"
      },
      "cell_type": "markdown",
      "source": [
        "# Activity 1: Split a string with regular expression\n",
        "\n",
        "**Explore how to split a string \"hello\" into [ 'h' , 'e' , 'l' , 'l' , 'o' ]**"
      ]
    },
    {
      "metadata": {
        "id": "NRKTEM1SogWP",
        "colab_type": "code",
        "colab": {}
      },
      "cell_type": "code",
      "source": [
        "#one solution\n",
        "\n",
        "str='hello'\n",
        "lst=[]\n",
        "for i in range(0,len(str)):\n",
        "  lst.append(str[i])"
      ],
      "execution_count": 0,
      "outputs": []
    },
    {
      "metadata": {
        "id": "bRaHjw-wpnJy",
        "colab_type": "code",
        "colab": {}
      },
      "cell_type": "code",
      "source": [
        "lst"
      ],
      "execution_count": 0,
      "outputs": []
    },
    {
      "metadata": {
        "id": "kIJw3VAmp7sT",
        "colab_type": "code",
        "colab": {}
      },
      "cell_type": "code",
      "source": [
        "#write your regular expression to split str and store it as lst1\n",
        "lst1=[]\n",
        "#your code here\n",
        "\n",
        "#Test code\n",
        "check=(lst==lst1)\n",
        "if (check==1):\n",
        "  print('correct')\n",
        "else: \n",
        "  print('Try again') #Try until you get correct as output\n"
      ],
      "execution_count": 0,
      "outputs": []
    },
    {
      "metadata": {
        "id": "mKSerIeTvUCX",
        "colab_type": "text"
      },
      "cell_type": "markdown",
      "source": [
        "Extract a substring from a string of phone numbers"
      ]
    },
    {
      "metadata": {
        "id": "iu8qdsdvq4SJ",
        "colab_type": "code",
        "colab": {}
      },
      "cell_type": "code",
      "source": [
        "import re\n",
        "phone = \"#2004-()959-559&\" # Phone Number\n",
        "\n",
        "# extract only the phone number\n",
        "num = re.sub(r'\\D', \"\", phone)\n",
        "print (\"phone number\", num)"
      ],
      "execution_count": 0,
      "outputs": []
    },
    {
      "metadata": {
        "id": "2rDmve6nv51i",
        "colab_type": "text"
      },
      "cell_type": "markdown",
      "source": [
        "**Extract text from a paragraph**\n",
        "\n",
        "using findall()"
      ]
    },
    {
      "metadata": {
        "id": "8apsUN2Dut_6",
        "colab_type": "code",
        "colab": {}
      },
      "cell_type": "code",
      "source": [
        "import re\n",
        "NameAge = \"\"\"Tara is 22 and Mahesh is 31\n",
        "              Seema is 27 and Sanjeev is 32\n",
        "              Megha is 23 and Narendra is 42\"\"\"\n",
        "\n",
        "\n",
        "ages = re.findall(r'\\d{1,2}', NameAge)\n",
        "names = re.findall(r'[A-Z][a-z]*', NameAge)\n",
        "names\n",
        "\n",
        "ageDict = {}\n",
        "x = 0\n",
        "\n",
        "for each in names:\n",
        "    ageDict[each] = ages[x]\n",
        "    x+= 1\n",
        "    \n",
        "#print(ageDict)\n",
        "ageDict"
      ],
      "execution_count": 0,
      "outputs": []
    },
    {
      "metadata": {
        "id": "DIPHb6lLv9nT",
        "colab_type": "code",
        "colab": {}
      },
      "cell_type": "code",
      "source": [
        "#find how many times the sub string 'and' appears in a paragraph\n",
        "\n",
        "pattern='and'\n",
        "text='operand and operators are fascinating topics. most of the time people with wands and lands need not learn about these topics'\n",
        "allinform = re.findall(pattern, text)\n",
        "print('the word',pattern,'appears',len(allinform),'times in the text')\n"
      ],
      "execution_count": 0,
      "outputs": []
    },
    {
      "metadata": {
        "id": "VmJ79_IlwzxA",
        "colab_type": "code",
        "colab": {}
      },
      "cell_type": "code",
      "source": [
        "inp  = \"hat rat matrix pat\"\n",
        "regex = re.compile(\"mat\")\n",
        "inp = regex.sub(\"myt\", inp)\n",
        "print(inp)"
      ],
      "execution_count": 0,
      "outputs": []
    },
    {
      "metadata": {
        "id": "z7gKVEDS1I9F",
        "colab_type": "code",
        "colab": {}
      },
      "cell_type": "code",
      "source": [
        "data='+1000067'\n",
        "regex=re.compile(\"\\+\")\n",
        "data=regex.sub(\"\",data)\n",
        "print(data)"
      ],
      "execution_count": 0,
      "outputs": []
    },
    {
      "metadata": {
        "id": "qQTWr0ov19AG",
        "colab_type": "code",
        "colab": {}
      },
      "cell_type": "code",
      "source": [
        "str = 'Abdul  is a great man'\n",
        "match = re.search(r'kalam', str)\n",
        "if match:\n",
        "  print('found')\n",
        "else:\n",
        "  print('not found')"
      ],
      "execution_count": 0,
      "outputs": []
    },
    {
      "metadata": {
        "id": "v_6b5KYZ2cQt",
        "colab_type": "text"
      },
      "cell_type": "markdown",
      "source": [
        "# Activity 2\n",
        "\n",
        "Let there exist a list of adverstisement codes say adlist= ['ad101','ad765','ad875875']\n",
        "\n",
        "I need output as [101,765,875875]\n",
        "\n",
        "\n",
        "**other hints **\n",
        "\n",
        "* \\b --> backspace\n",
        "* \\f --> formfeed\n",
        "* \\r --> carriage return\n",
        "* \\t --> Tab\n",
        "* \\v --> Vertical tab\n",
        "\n",
        "\n",
        "\n"
      ]
    },
    {
      "metadata": {
        "id": "z_zr9cOa43ha",
        "colab_type": "text"
      },
      "cell_type": "markdown",
      "source": [
        "# Email Matching"
      ]
    },
    {
      "metadata": {
        "id": "N5sGKeCL-PeS",
        "colab_type": "text"
      },
      "cell_type": "markdown",
      "source": [
        ""
      ]
    },
    {
      "metadata": {
        "id": "JGagLp3Z2z7q",
        "colab_type": "code",
        "colab": {}
      },
      "cell_type": "code",
      "source": [
        "email=input('Enter some email ids:')\n",
        "print(\" Matched Email ids:\", (re.findall(\"[\\w]{1,20}@[\\w.-]{2,20}[A-Za-z]{2,3}\", email)))"
      ],
      "execution_count": 0,
      "outputs": []
    },
    {
      "metadata": {
        "id": "Zy26O4nH54S_",
        "colab_type": "text"
      },
      "cell_type": "markdown",
      "source": [
        "# Web Scraping"
      ]
    },
    {
      "metadata": {
        "id": "Yk8GAW8r53Fl",
        "colab_type": "code",
        "colab": {}
      },
      "cell_type": "code",
      "source": [
        "import urllib.request\n",
        "from re import findall\n",
        "\n",
        "\n",
        "url = \"http://www.summet.com/dmsi/html/codesamples/addresses.html\"\n",
        "\n",
        "response = urllib.request.urlopen(url)\n",
        "\n",
        "html = response.read()\n",
        "htmlStr = html.decode()\n",
        "pdata = findall(\"\\(\\d{3}\\) \\d{3}-\\d{4}\", htmlStr)\n",
        "\n",
        "pdata\n"
      ],
      "execution_count": 0,
      "outputs": []
    },
    {
      "metadata": {
        "id": "8vNGXbfn4Jud",
        "colab_type": "code",
        "colab": {}
      },
      "cell_type": "code",
      "source": [
        "import re\n",
        "#now lets scrap mail ids from xen.ai website\n",
        "import urllib.request\n",
        "from re import findall\n",
        "\n",
        "\n",
        "url = \"https://xen.ai/contact/\"\n",
        "\n",
        "response = urllib.request.urlopen(url)\n",
        "\n",
        "html = response.read()\n",
        "htmlStr = html.decode()\n",
        "mail=re.findall(\"[\\w]{1,20}@[\\w.-]{2,20}[A-Za-z]{2,3}\", htmlStr)\n",
        "print(mail)\n"
      ],
      "execution_count": 0,
      "outputs": []
    },
    {
      "metadata": {
        "id": "d2zYrR6m9W9n",
        "colab_type": "text"
      },
      "cell_type": "markdown",
      "source": [
        "**Numpy**\n",
        "\n",
        "* In the above regular expression example there is a repetition in the elements. how to find unique elements in a list?\n",
        "\n",
        "* numpy offers solutions for such problems  faced by the programmers\n",
        "\n",
        "use the below command to install numpy in your ide \n",
        "\n",
        "#pip install numpy"
      ]
    },
    {
      "metadata": {
        "id": "DqP2xr669ZBh",
        "colab_type": "code",
        "colab": {}
      },
      "cell_type": "code",
      "source": [
        "#extract unique elements\n",
        "\n",
        "import numpy as np\n",
        "#mail=np.array(mail) #convert a list to array\n",
        "mail=np.unique(mail) #unique elements are stored in a array\n",
        "for i in mail:\n",
        "  print(i)"
      ],
      "execution_count": 0,
      "outputs": []
    },
    {
      "metadata": {
        "id": "DqA8kKemWl6H",
        "colab_type": "code",
        "colab": {}
      },
      "cell_type": "code",
      "source": [
        "lst=[1,2,78,97,455]\n",
        "print('add 1 to all list elements',np.add(lst,1))\n",
        "print('multiply 2 to all list elements',np.multiply(lst,2))\n",
        "print('subtract 1 with all list elements',np.subtract(lst,1))"
      ],
      "execution_count": 0,
      "outputs": []
    },
    {
      "metadata": {
        "id": "2NJFGcv1cFhB",
        "colab_type": "code",
        "colab": {}
      },
      "cell_type": "code",
      "source": [
        "print(np.arange(100))"
      ],
      "execution_count": 0,
      "outputs": []
    },
    {
      "metadata": {
        "id": "eaqCLq-SfdTL",
        "colab_type": "code",
        "colab": {}
      },
      "cell_type": "code",
      "source": [
        "a = np.array([(1,2,3),(4,5,6), (7,8,9)])\n",
        "print(a.shape)"
      ],
      "execution_count": 0,
      "outputs": []
    },
    {
      "metadata": {
        "id": "Bw8esqtvfgAM",
        "colab_type": "code",
        "colab": {}
      },
      "cell_type": "code",
      "source": [
        "ar=np.array((1,2,3,4))\n",
        "ar.size"
      ],
      "execution_count": 0,
      "outputs": []
    },
    {
      "metadata": {
        "id": "ObFuAZvWf2xf",
        "colab_type": "code",
        "colab": {}
      },
      "cell_type": "code",
      "source": [
        "a = np.array([(1,2,3),(4,5,6)])\n",
        "print(a.ndim)"
      ],
      "execution_count": 0,
      "outputs": []
    },
    {
      "metadata": {
        "id": "vO9ma-xJgJY2",
        "colab_type": "code",
        "colab": {}
      },
      "cell_type": "code",
      "source": [
        "a = np.array([(1,2,3,4),(5,6,7,8)])\n",
        "print(a)\n",
        "print(a.reshape(4,2))"
      ],
      "execution_count": 0,
      "outputs": []
    },
    {
      "metadata": {
        "id": "lNQGVGJTg86v",
        "colab_type": "code",
        "colab": {}
      },
      "cell_type": "code",
      "source": [
        "#slicing\n",
        "print(a[0,2])"
      ],
      "execution_count": 0,
      "outputs": []
    },
    {
      "metadata": {
        "id": "W-plcQcUhEZl",
        "colab_type": "code",
        "colab": {}
      },
      "cell_type": "code",
      "source": [
        "a = np.linspace(1,3,5)\n",
        "print(a)"
      ],
      "execution_count": 0,
      "outputs": []
    },
    {
      "metadata": {
        "id": "S9EkM6M6hKRA",
        "colab_type": "code",
        "colab": {}
      },
      "cell_type": "code",
      "source": [
        "a = np.array([1,2,3])\n",
        "print(\"The max value in numpy a is \",a.max())\n",
        "print(\"The min value in numpy a is\", a.min())\n",
        "print(\"The sum of all values in numpy a is\", a.sum())"
      ],
      "execution_count": 0,
      "outputs": []
    },
    {
      "metadata": {
        "id": "VANaV9BohYV-",
        "colab_type": "code",
        "colab": {}
      },
      "cell_type": "code",
      "source": [
        "a = np.array([(1,2,3),(4,5,6)])\n",
        "print(\"Sum of elements along rows\",a.sum(axis=0))\n",
        "print(\"Sum of elements along columns\", a.sum(axis = 1))\n"
      ],
      "execution_count": 0,
      "outputs": []
    },
    {
      "metadata": {
        "id": "RiGHL1kRhc48",
        "colab_type": "code",
        "colab": {}
      },
      "cell_type": "code",
      "source": [
        "print(\"Square root of each element of numpy array a is\",np.sqrt(a))"
      ],
      "execution_count": 0,
      "outputs": []
    },
    {
      "metadata": {
        "id": "-oIeoD1hhifp",
        "colab_type": "code",
        "colab": {}
      },
      "cell_type": "code",
      "source": [
        "print(\"Standard deviation (deviation from mean) of numpy array a is\",np.std(a))"
      ],
      "execution_count": 0,
      "outputs": []
    },
    {
      "metadata": {
        "id": "t9Y-RdFThnVr",
        "colab_type": "code",
        "colab": {}
      },
      "cell_type": "code",
      "source": [
        "a = np.array([(1,2,3,4), (5,6,7,8)])\n",
        "b = np.array([(1,2,3,4), (5,6,7,8)])\n",
        "print(\"Addition of a,b is\", a + b)\n",
        "print(\"Subtraction of a,b is\", a - b)\n",
        "print(\"Division of a,b is\", a/b)\n",
        "print(\"Multiplication of a,b is\", a*b)"
      ],
      "execution_count": 0,
      "outputs": []
    },
    {
      "metadata": {
        "id": "t5SBPUmRhuwT",
        "colab_type": "code",
        "colab": {}
      },
      "cell_type": "code",
      "source": [
        "print(np.vstack((a,b)))\n",
        "print(np.hstack((a,b)))"
      ],
      "execution_count": 0,
      "outputs": []
    },
    {
      "metadata": {
        "id": "B3PG8fAIh1MA",
        "colab_type": "code",
        "colab": {}
      },
      "cell_type": "code",
      "source": [
        "print(a.ravel()) #converts to single row"
      ],
      "execution_count": 0,
      "outputs": []
    },
    {
      "metadata": {
        "id": "dkeMvg2Jh7xW",
        "colab_type": "code",
        "colab": {}
      },
      "cell_type": "code",
      "source": [
        "x = np.array([1, 2 , 3])\n",
        "y = np.exp(x)    # The value of \"e\" is 2.7828 #exponent\n",
        "print(y)"
      ],
      "execution_count": 0,
      "outputs": []
    },
    {
      "metadata": {
        "id": "YR-njo1miFPC",
        "colab_type": "code",
        "colab": {}
      },
      "cell_type": "code",
      "source": [
        "y = np.log(x)   # \"np.log\" means log base e also known as \"ln\"\n",
        "print(y)"
      ],
      "execution_count": 0,
      "outputs": []
    },
    {
      "metadata": {
        "id": "VK736no1iPl1",
        "colab_type": "code",
        "colab": {}
      },
      "cell_type": "code",
      "source": [
        "y = np.log10(x)\n",
        "print(y)"
      ],
      "execution_count": 0,
      "outputs": []
    },
    {
      "metadata": {
        "id": "LXiNbsmwiaYk",
        "colab_type": "text"
      },
      "cell_type": "markdown",
      "source": [
        "\n",
        "\n",
        "---\n",
        "\n",
        "\n",
        "\n"
      ]
    },
    {
      "metadata": {
        "id": "DjYej0SJib6_",
        "colab_type": "code",
        "colab": {}
      },
      "cell_type": "code",
      "source": [
        ""
      ],
      "execution_count": 0,
      "outputs": []
    }
  ]
}